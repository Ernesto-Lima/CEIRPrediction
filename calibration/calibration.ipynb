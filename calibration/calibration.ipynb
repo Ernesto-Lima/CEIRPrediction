{
 "cells": [
  {
   "cell_type": "code",
   "execution_count": 1,
   "metadata": {},
   "outputs": [],
   "source": [
    "import general_functions as gf\n",
    "import subprocess\n",
    "import numpy as np\n",
    "np.random.seed(2021) # For reproducibility"
   ]
  },
  {
   "cell_type": "code",
   "execution_count": 6,
   "metadata": {},
   "outputs": [],
   "source": [
    "data = gf.read_data(show=False,save=False)\n",
    "meanData = gf.compute_mean_ci(data,show=False,save=False)"
   ]
  },
  {
   "cell_type": "markdown",
   "metadata": {},
   "source": [
    "# Step 1\n",
    "Calibrate scenarios A, B, and C"
   ]
  },
  {
   "cell_type": "code",
   "execution_count": 11,
   "metadata": {},
   "outputs": [
    {
     "name": "stdout",
     "output_type": "stream",
     "text": [
      "./run_input_data.sh 123 6 0\n",
      "$k_T$ & 0.3292 [0.3176, 0.3436]\n",
      "$k_V$ & 0.09447 [0.08685, 0.1008]\n",
      "$\\mu_V$ & 0.08377 [0.07153, 0.09517]\n",
      "$\\mu_T$ & 0.3744 [0.3494, 0.4033]\n",
      "$\\gamma$ & 0.04527 [0.02971, 0.06601]\n",
      "$r$ & 0.1443 [0.1008, 0.1821]\n",
      "$Hf_1$ & 0.938 [0.898, 0.9731]\n",
      "$Hf_2$ & 0.8909 [0.8533, 0.9242]\n",
      "$Hf_3$ & 0.6847 [0.6588, 0.7092]\n"
     ]
    }
   ],
   "source": [
    "np.random.seed(2021) # For reproducibility\n",
    "run_model = False\n",
    "input_n = 123\n",
    "model_n = 6\n",
    "position = 0\n",
    "repl = False\n",
    "command_to_run = './run_input_data.sh '\n",
    "command_to_run += str(input_n) + ' ' \n",
    "command_to_run += str(model_n) + ' ' \n",
    "command_to_run += str(position)\n",
    "print(command_to_run)\n",
    "if run_model:    \n",
    "    rc = subprocess.run([command_to_run],shell=True,check=True)\n",
    "output_base = gf.get_chain(input_n,model_n,show=False,save=False)\n",
    "gf.save_parameters(input_n,model_n,output_base)\n",
    "for i in range(len(output_base[0][0])):\n",
    "    mcmc = np.percentile(output_base[0][:,i], [16, 50, 84])\n",
    "    print(output_base[1][i],'& {:.4} [{:.4}, {:.4}]'.format(mcmc[1],mcmc[0],mcmc[2]))"
   ]
  },
  {
   "cell_type": "code",
   "execution_count": 12,
   "metadata": {},
   "outputs": [
    {
     "name": "stdout",
     "output_type": "stream",
     "text": [
      "$\\gamma$ & 0.01701 [0.01143, 0.02393]\n"
     ]
    }
   ],
   "source": [
    "mcmc = np.percentile(output_base[0][:,4]*output_base[0][:,3], [16, 50, 84])\n",
    "print(output_base[1][4],'& {:.4} [{:.4}, {:.4}]'.format(mcmc[1],mcmc[0],mcmc[2]))"
   ]
  },
  {
   "cell_type": "code",
   "execution_count": 13,
   "metadata": {},
   "outputs": [
    {
     "name": "stdout",
     "output_type": "stream",
     "text": [
      "$\\gamma_e$ & 0.1054 [0.06445, 0.1559]\n",
      "$r_e$ & 0.1391 [0.06633, 0.1821]\n",
      "$Hf_4$ & 0.9208 [0.9187, 0.9228]\n",
      "$Hf_5$ & 0.8113 [0.8041, 0.8186]\n"
     ]
    }
   ],
   "source": [
    "np.random.seed(27) # For reproducibility\n",
    "run_model = False\n",
    "input_n = 45\n",
    "model_n = 10\n",
    "position = 0\n",
    "repl = False\n",
    "command_to_run = './run_input_data.sh '\n",
    "command_to_run += str(input_n) + ' ' \n",
    "command_to_run += str(model_n) + ' ' \n",
    "command_to_run += str(position)\n",
    "if run_model:    \n",
    "    rc = subprocess.run([command_to_run],shell=True,check=True)\n",
    "output = gf.get_chain(input_n,model_n,show=False,save=True)\n",
    "gf.save_parameters(input_n,model_n,output)\n",
    "for i in range(len(output[0][0])):\n",
    "    mcmc = np.percentile(output[0][:,i], [16, 50, 84])\n",
    "    print(output[1][i],'& {:.4} [{:.4}, {:.4}]'.format(mcmc[1],mcmc[0],mcmc[2]))"
   ]
  },
  {
   "cell_type": "code",
   "execution_count": 14,
   "metadata": {},
   "outputs": [
    {
     "name": "stdout",
     "output_type": "stream",
     "text": [
      "$\\gamma_e$ & 0.009757 [0.005976, 0.01465]\n"
     ]
    }
   ],
   "source": [
    "mcmc = np.percentile(output[0][:,0]*output_base[0][:,1], [16, 50, 84])\n",
    "print(output[1][0],'& {:.4} [{:.4}, {:.4}]'.format(mcmc[1],mcmc[0],mcmc[2]))"
   ]
  },
  {
   "cell_type": "markdown",
   "metadata": {},
   "source": [
    "# Step 3"
   ]
  },
  {
   "cell_type": "code",
   "execution_count": 17,
   "metadata": {},
   "outputs": [
    {
     "name": "stdout",
     "output_type": "stream",
     "text": [
      "4\n"
     ]
    }
   ],
   "source": [
    "for position in range(4,5):\n",
    "    print(position)\n",
    "    run_model = True\n",
    "    input_n = 6\n",
    "    model_n = 10\n",
    "    repl = False\n",
    "    command_to_run = './run_input_data.sh '\n",
    "    command_to_run += str(input_n) + ' ' \n",
    "    command_to_run += str(model_n) + ' ' \n",
    "    command_to_run += str(position)\n",
    "    if run_model:\n",
    "        rc = subprocess.run([command_to_run],shell=True,check=True)\n",
    "    output = gf.get_chain(input_n,model_n,pos=position,show=False,save=False)"
   ]
  },
  {
   "cell_type": "code",
   "execution_count": null,
   "metadata": {},
   "outputs": [],
   "source": []
  }
 ],
 "metadata": {
  "kernelspec": {
   "display_name": "Python 3",
   "language": "python",
   "name": "python3"
  },
  "language_info": {
   "codemirror_mode": {
    "name": "ipython",
    "version": 3
   },
   "file_extension": ".py",
   "mimetype": "text/x-python",
   "name": "python",
   "nbconvert_exporter": "python",
   "pygments_lexer": "ipython3",
   "version": "3.8.10"
  }
 },
 "nbformat": 4,
 "nbformat_minor": 4
}
